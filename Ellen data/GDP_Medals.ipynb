{
 "cells": [
  {
   "cell_type": "code",
   "execution_count": 18,
   "metadata": {
    "collapsed": true
   },
   "outputs": [],
   "source": [
    "# Analysis for relatioship between Economic Power and Medal Received as follows:\n",
    "# medals vs Total GDP \n",
    "# medals vs GDP Per Capital"
   ]
  },
  {
   "cell_type": "code",
   "execution_count": 19,
   "metadata": {},
   "outputs": [
    {
     "data": {
      "text/html": [
       "<div>\n",
       "<style scoped>\n",
       "    .dataframe tbody tr th:only-of-type {\n",
       "        vertical-align: middle;\n",
       "    }\n",
       "\n",
       "    .dataframe tbody tr th {\n",
       "        vertical-align: top;\n",
       "    }\n",
       "\n",
       "    .dataframe thead th {\n",
       "        text-align: right;\n",
       "    }\n",
       "</style>\n",
       "<table border=\"1\" class=\"dataframe\">\n",
       "  <thead>\n",
       "    <tr style=\"text-align: right;\">\n",
       "      <th></th>\n",
       "      <th>LOCATION</th>\n",
       "      <th>YEAR</th>\n",
       "      <th>MEDAL</th>\n",
       "      <th>GDP</th>\n",
       "    </tr>\n",
       "  </thead>\n",
       "  <tbody>\n",
       "    <tr>\n",
       "      <th>0</th>\n",
       "      <td>AUS</td>\n",
       "      <td>1960</td>\n",
       "      <td>36</td>\n",
       "      <td>2408.509071</td>\n",
       "    </tr>\n",
       "    <tr>\n",
       "      <th>1</th>\n",
       "      <td>AUS</td>\n",
       "      <td>1964</td>\n",
       "      <td>42</td>\n",
       "      <td>2897.709644</td>\n",
       "    </tr>\n",
       "    <tr>\n",
       "      <th>2</th>\n",
       "      <td>AUS</td>\n",
       "      <td>1968</td>\n",
       "      <td>49</td>\n",
       "      <td>3826.664208</td>\n",
       "    </tr>\n",
       "    <tr>\n",
       "      <th>3</th>\n",
       "      <td>AUS</td>\n",
       "      <td>1972</td>\n",
       "      <td>20</td>\n",
       "      <td>5208.919749</td>\n",
       "    </tr>\n",
       "    <tr>\n",
       "      <th>4</th>\n",
       "      <td>AUS</td>\n",
       "      <td>1976</td>\n",
       "      <td>24</td>\n",
       "      <td>7390.445655</td>\n",
       "    </tr>\n",
       "    <tr>\n",
       "      <th>5</th>\n",
       "      <td>AUS</td>\n",
       "      <td>1980</td>\n",
       "      <td>12</td>\n",
       "      <td>10461.350030</td>\n",
       "    </tr>\n",
       "    <tr>\n",
       "      <th>6</th>\n",
       "      <td>AUS</td>\n",
       "      <td>1984</td>\n",
       "      <td>50</td>\n",
       "      <td>13472.887360</td>\n",
       "    </tr>\n",
       "    <tr>\n",
       "      <th>7</th>\n",
       "      <td>AUS</td>\n",
       "      <td>1988</td>\n",
       "      <td>34</td>\n",
       "      <td>16935.983510</td>\n",
       "    </tr>\n",
       "    <tr>\n",
       "      <th>8</th>\n",
       "      <td>AUS</td>\n",
       "      <td>1992</td>\n",
       "      <td>57</td>\n",
       "      <td>18937.500550</td>\n",
       "    </tr>\n",
       "    <tr>\n",
       "      <th>9</th>\n",
       "      <td>AUS</td>\n",
       "      <td>1996</td>\n",
       "      <td>132</td>\n",
       "      <td>22974.739170</td>\n",
       "    </tr>\n",
       "  </tbody>\n",
       "</table>\n",
       "</div>"
      ],
      "text/plain": [
       "  LOCATION  YEAR  MEDAL           GDP\n",
       "0      AUS  1960     36   2408.509071\n",
       "1      AUS  1964     42   2897.709644\n",
       "2      AUS  1968     49   3826.664208\n",
       "3      AUS  1972     20   5208.919749\n",
       "4      AUS  1976     24   7390.445655\n",
       "5      AUS  1980     12  10461.350030\n",
       "6      AUS  1984     50  13472.887360\n",
       "7      AUS  1988     34  16935.983510\n",
       "8      AUS  1992     57  18937.500550\n",
       "9      AUS  1996    132  22974.739170"
      ]
     },
     "execution_count": 19,
     "metadata": {},
     "output_type": "execute_result"
    }
   ],
   "source": [
    "import pandas as pd \n",
    "import json \n",
    "import matplotlib.pyplot as plt\n",
    "import requests\n",
    "import numpy as np\n",
    "%matplotlib inline\n",
    "import matplotlib as mpl\n",
    "\n",
    "\n",
    "#load the data\n",
    "gpa_df = pd.read_csv(\"GDPYear.csv\", encoding = \"ISO-8859-1\")\n",
    "gpa_df.head(10)"
   ]
  },
  {
   "cell_type": "code",
   "execution_count": 20,
   "metadata": {},
   "outputs": [
    {
     "data": {
      "image/png": "[encoded data removed]",
      "text/plain": [
       "<matplotlib.figure.Figure at 0x176f4574b70>"
      ]
     },
     "metadata": {},
     "output_type": "display_data"
    }
   ],
   "source": [
    "# Plot\n",
    "x= gpa_df['MEDAL']\n",
    "y =gpa_df['GDP']\n",
    "plt.scatter(x, y, alpha=0.5)\n",
    "plt.title('Medals and Economic Performance.com')\n",
    "plt.xlabel('Medal Received')\n",
    "plt.ylabel('Nominal GDP')\n",
    "plt.show()"
   ]
  },
  {
   "cell_type": "code",
   "execution_count": 21,
   "metadata": {
    "collapsed": true
   },
   "outputs": [],
   "source": [
    "import os\n",
    "import csv\n",
    "import pandas as pd\n",
    "import numpy as np\n",
    "import seaborn as sns\n",
    "import matplotlib.pyplot as plt\n",
    "import random"
   ]
  },
  {
   "cell_type": "code",
   "execution_count": 22,
   "metadata": {
    "collapsed": true
   },
   "outputs": [],
   "source": [
    "#read csv\n",
    "file_one = os.path.join(\"olympicsall.csv\")\n",
    "olympics_df = pd.read_csv(file_one, encoding = \"ISO-8859-1\")\n",
    "olympics_df.dropna\n",
    "\n",
    "dict_df = pd.read_csv (\"olympic_dict.csv\", encoding = \"ISO-8859-1\")\n",
    "medcountry = pd.read_csv (\"countrymed.csv\", encoding = \"ISO-8859-1\")\n",
    "\n",
    "#Merge Summer and Winter Olympic Information\n",
    "SW_Merge = pd.merge(dict_df, medcountry, on=\"Country\")"
   ]
  },
  {
   "cell_type": "code",
   "execution_count": 23,
   "metadata": {},
   "outputs": [
    {
     "data": {
      "text/html": [
       "<div>\n",
       "<style scoped>\n",
       "    .dataframe tbody tr th:only-of-type {\n",
       "        vertical-align: middle;\n",
       "    }\n",
       "\n",
       "    .dataframe tbody tr th {\n",
       "        vertical-align: top;\n",
       "    }\n",
       "\n",
       "    .dataframe thead th {\n",
       "        text-align: right;\n",
       "    }\n",
       "</style>\n",
       "<table border=\"1\" class=\"dataframe\">\n",
       "  <thead>\n",
       "    <tr style=\"text-align: right;\">\n",
       "      <th></th>\n",
       "      <th>Country</th>\n",
       "      <th>Population</th>\n",
       "      <th>GDP per Capita</th>\n",
       "      <th>Total Medal Count</th>\n",
       "    </tr>\n",
       "  </thead>\n",
       "  <tbody>\n",
       "    <tr>\n",
       "      <th>0</th>\n",
       "      <td>Afghanistan</td>\n",
       "      <td>32.53</td>\n",
       "      <td>594.32</td>\n",
       "      <td>2.0</td>\n",
       "    </tr>\n",
       "    <tr>\n",
       "      <th>1</th>\n",
       "      <td>Algeria</td>\n",
       "      <td>39.67</td>\n",
       "      <td>4206.03</td>\n",
       "      <td>15.0</td>\n",
       "    </tr>\n",
       "    <tr>\n",
       "      <th>2</th>\n",
       "      <td>Argentina</td>\n",
       "      <td>43.42</td>\n",
       "      <td>13431.88</td>\n",
       "      <td>259.0</td>\n",
       "    </tr>\n",
       "    <tr>\n",
       "      <th>3</th>\n",
       "      <td>Armenia</td>\n",
       "      <td>3.02</td>\n",
       "      <td>3489.13</td>\n",
       "      <td>11.0</td>\n",
       "    </tr>\n",
       "    <tr>\n",
       "      <th>4</th>\n",
       "      <td>Australia</td>\n",
       "      <td>23.78</td>\n",
       "      <td>56310.96</td>\n",
       "      <td>1204.0</td>\n",
       "    </tr>\n",
       "  </tbody>\n",
       "</table>\n",
       "</div>"
      ],
      "text/plain": [
       "       Country  Population  GDP per Capita  Total Medal Count\n",
       "0  Afghanistan       32.53          594.32                2.0\n",
       "1      Algeria       39.67         4206.03               15.0\n",
       "2    Argentina       43.42        13431.88              259.0\n",
       "3      Armenia        3.02         3489.13               11.0\n",
       "4    Australia       23.78        56310.96             1204.0"
      ]
     },
     "execution_count": 23,
     "metadata": {},
     "output_type": "execute_result"
    }
   ],
   "source": [
    "#Clean up and format df\n",
    "SW_Merge.dropna\n",
    "SW_Merge[\"Population\"] = SW_Merge['Population']*.000001\n",
    "SW_Merge.round(decimals=2).head(5)"
   ]
  },
  {
   "cell_type": "code",
   "execution_count": 24,
   "metadata": {},
   "outputs": [
    {
     "data": {
      "text/html": [
       "<div>\n",
       "<style scoped>\n",
       "    .dataframe tbody tr th:only-of-type {\n",
       "        vertical-align: middle;\n",
       "    }\n",
       "\n",
       "    .dataframe tbody tr th {\n",
       "        vertical-align: top;\n",
       "    }\n",
       "\n",
       "    .dataframe thead th {\n",
       "        text-align: right;\n",
       "    }\n",
       "</style>\n",
       "<table border=\"1\" class=\"dataframe\">\n",
       "  <thead>\n",
       "    <tr style=\"text-align: right;\">\n",
       "      <th></th>\n",
       "      <th>Country</th>\n",
       "      <th>GDP per Capita</th>\n",
       "      <th>Total Medal Count</th>\n",
       "    </tr>\n",
       "  </thead>\n",
       "  <tbody>\n",
       "    <tr>\n",
       "      <th>0</th>\n",
       "      <td>Afghanistan</td>\n",
       "      <td>594.323081</td>\n",
       "      <td>2.0</td>\n",
       "    </tr>\n",
       "    <tr>\n",
       "      <th>1</th>\n",
       "      <td>Algeria</td>\n",
       "      <td>4206.031232</td>\n",
       "      <td>15.0</td>\n",
       "    </tr>\n",
       "    <tr>\n",
       "      <th>2</th>\n",
       "      <td>Argentina</td>\n",
       "      <td>13431.878340</td>\n",
       "      <td>259.0</td>\n",
       "    </tr>\n",
       "    <tr>\n",
       "      <th>3</th>\n",
       "      <td>Armenia</td>\n",
       "      <td>3489.127690</td>\n",
       "      <td>11.0</td>\n",
       "    </tr>\n",
       "    <tr>\n",
       "      <th>4</th>\n",
       "      <td>Australia</td>\n",
       "      <td>56310.962990</td>\n",
       "      <td>1204.0</td>\n",
       "    </tr>\n",
       "  </tbody>\n",
       "</table>\n",
       "</div>"
      ],
      "text/plain": [
       "       Country  GDP per Capita  Total Medal Count\n",
       "0  Afghanistan      594.323081                2.0\n",
       "1      Algeria     4206.031232               15.0\n",
       "2    Argentina    13431.878340              259.0\n",
       "3      Armenia     3489.127690               11.0\n",
       "4    Australia    56310.962990             1204.0"
      ]
     },
     "execution_count": 24,
     "metadata": {},
     "output_type": "execute_result"
    }
   ],
   "source": [
    "#new df with selected columns to creat GDP Per Capita vs Medals\n",
    "gdpmed_ser=SW_Merge[['Country', 'GDP per Capita', 'Total Medal Count']].copy()\n",
    "#gdpmed_ser[\"GDP per Capita\"]=gdpmed_ser[\"GDP per Capita\"].map(\"$ {:,.2f}\".format)\n",
    "gdpmed_ser.head()"
   ]
  },
  {
   "cell_type": "code",
   "execution_count": 25,
   "metadata": {},
   "outputs": [
    {
     "data": {
      "image/png": "[encoded data removed]",
      "text/plain": [
       "<matplotlib.figure.Figure at 0x176f4811fd0>"
      ]
     },
     "metadata": {},
     "output_type": "display_data"
    }
   ],
   "source": [
    "#GDP per Capita plot\n",
    "gdpmed_ser.plot(kind='scatter', x='GDP per Capita', y='Total Medal Count')\n",
    "plt.xlim()\n",
    "plt.ylim(0,6000)\n",
    "plt.savefig('GDP vs Medal Count overall.png', dpi = 600)\n",
    "plt.show()"
   ]
  },
  {
   "cell_type": "code",
   "execution_count": null,
   "metadata": {
    "collapsed": true
   },
   "outputs": [],
   "source": []
  }
 ],
 "metadata": {
  "kernelspec": {
   "display_name": "Python 3",
   "language": "python",
   "name": "python3"
  },
  "language_info": {
   "codemirror_mode": {
    "name": "ipython",
    "version": 3
   },
   "file_extension": ".py",
   "mimetype": "text/x-python",
   "name": "python",
   "nbconvert_exporter": "python",
   "pygments_lexer": "ipython3",
   "version": "3.6.1"
  }
 },
 "nbformat": 4,
 "nbformat_minor": 2
}
